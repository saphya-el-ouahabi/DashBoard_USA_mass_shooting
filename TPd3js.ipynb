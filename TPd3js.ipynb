{
 "cells": [
  {
   "cell_type": "markdown",
   "metadata": {},
   "source": [
    "# Nettoyage de la base de données"
   ]
  },
  {
   "cell_type": "code",
   "execution_count": 1,
   "metadata": {},
   "outputs": [],
   "source": [
    "import pandas as pd\n",
    "df=pd.read_csv('public/datasets/ShootingsDatabase.csv')"
   ]
  },
  {
   "cell_type": "code",
   "execution_count": 2,
   "metadata": {},
   "outputs": [],
   "source": [
    "#on enlève les colonnes suivantes:\n",
    "# 10: mental_health_details\n",
    "# 12: where_obtained\n",
    "# 14: weapon_details\n",
    "# 18: mental_health_sources\n",
    "# 19: sources_additional_age\n",
    "# 22: type\n",
    "# 23: year  (car on a déjà la colonne date)\n",
    "\n",
    "df=df.drop(df.columns[[10,12,14,18,19,22,23]], axis='columns')"
   ]
  },
  {
   "cell_type": "code",
   "execution_count": 3,
   "metadata": {},
   "outputs": [
    {
     "data": {
      "text/html": [
       "<div>\n",
       "<style scoped>\n",
       "    .dataframe tbody tr th:only-of-type {\n",
       "        vertical-align: middle;\n",
       "    }\n",
       "\n",
       "    .dataframe tbody tr th {\n",
       "        vertical-align: top;\n",
       "    }\n",
       "\n",
       "    .dataframe thead th {\n",
       "        text-align: right;\n",
       "    }\n",
       "</style>\n",
       "<table border=\"1\" class=\"dataframe\">\n",
       "  <thead>\n",
       "    <tr style=\"text-align: right;\">\n",
       "      <th></th>\n",
       "      <th>case</th>\n",
       "      <th>location</th>\n",
       "      <th>date</th>\n",
       "      <th>summary</th>\n",
       "      <th>fatalities</th>\n",
       "      <th>injured</th>\n",
       "      <th>total_victims</th>\n",
       "      <th>location.1</th>\n",
       "      <th>age_of_shooter</th>\n",
       "      <th>prior_signs_mental_health_issues</th>\n",
       "      <th>weapons_obtained_legally</th>\n",
       "      <th>weapon_type</th>\n",
       "      <th>race</th>\n",
       "      <th>gender</th>\n",
       "      <th>sources</th>\n",
       "      <th>latitude</th>\n",
       "      <th>longitude</th>\n",
       "    </tr>\n",
       "  </thead>\n",
       "  <tbody>\n",
       "    <tr>\n",
       "      <th>0</th>\n",
       "      <td>Molson Coors shooting</td>\n",
       "      <td>Milwaukee, Wisconsin</td>\n",
       "      <td>2/26/20</td>\n",
       "      <td>Anthony Ferrill, 51, an employee armed with tw...</td>\n",
       "      <td>5</td>\n",
       "      <td>0</td>\n",
       "      <td>5</td>\n",
       "      <td>Workplace</td>\n",
       "      <td>51</td>\n",
       "      <td>-</td>\n",
       "      <td>-</td>\n",
       "      <td>semiautomatic handgun</td>\n",
       "      <td>Black</td>\n",
       "      <td>M</td>\n",
       "      <td>https://www.jsonline.com/story/news/local/2020...</td>\n",
       "      <td>43.044511</td>\n",
       "      <td>-87.962537</td>\n",
       "    </tr>\n",
       "    <tr>\n",
       "      <th>1</th>\n",
       "      <td>Jersey City kosher market shooting</td>\n",
       "      <td>Jersey City, New Jersey</td>\n",
       "      <td>12/10/19</td>\n",
       "      <td>David N. Anderson, 47, and Francine Graham, 50...</td>\n",
       "      <td>4</td>\n",
       "      <td>3</td>\n",
       "      <td>7</td>\n",
       "      <td>Other</td>\n",
       "      <td>-</td>\n",
       "      <td>-</td>\n",
       "      <td>-</td>\n",
       "      <td>-</td>\n",
       "      <td>Black</td>\n",
       "      <td>-</td>\n",
       "      <td>https://www.nytimes.com/2019/12/15/nyregion/je...</td>\n",
       "      <td>40.707363</td>\n",
       "      <td>-74.083609</td>\n",
       "    </tr>\n",
       "    <tr>\n",
       "      <th>2</th>\n",
       "      <td>Pensacola Naval base shooting</td>\n",
       "      <td>Pensacola, Florida</td>\n",
       "      <td>12/6/19</td>\n",
       "      <td>Ahmed Mohammed al-Shamrani, A Saudi Arabian mi...</td>\n",
       "      <td>3</td>\n",
       "      <td>8</td>\n",
       "      <td>11</td>\n",
       "      <td>Military</td>\n",
       "      <td>-</td>\n",
       "      <td>-</td>\n",
       "      <td>-</td>\n",
       "      <td>semiautomatic handgun</td>\n",
       "      <td>-</td>\n",
       "      <td>M</td>\n",
       "      <td>https://www.washingtonpost.com/national-securi...</td>\n",
       "      <td>30.364707</td>\n",
       "      <td>-87.288567</td>\n",
       "    </tr>\n",
       "    <tr>\n",
       "      <th>3</th>\n",
       "      <td>Odessa-Midland shooting spree</td>\n",
       "      <td>Odessa, Texas</td>\n",
       "      <td>8/31/19</td>\n",
       "      <td>Seth A. Ator, 36, fired at police officers who...</td>\n",
       "      <td>7</td>\n",
       "      <td>25</td>\n",
       "      <td>32</td>\n",
       "      <td>Other</td>\n",
       "      <td>36</td>\n",
       "      <td>yes</td>\n",
       "      <td>-</td>\n",
       "      <td>semiautomatic rifle</td>\n",
       "      <td>White</td>\n",
       "      <td>M</td>\n",
       "      <td>https://www.washingtonpost.com/politics/5-kill...</td>\n",
       "      <td>31.925974</td>\n",
       "      <td>-102.279600</td>\n",
       "    </tr>\n",
       "    <tr>\n",
       "      <th>4</th>\n",
       "      <td>Dayton entertainment district shooting</td>\n",
       "      <td>Dayton, Ohio</td>\n",
       "      <td>8/4/19</td>\n",
       "      <td>Connor Betts, 24, died during the attack, foll...</td>\n",
       "      <td>9</td>\n",
       "      <td>27</td>\n",
       "      <td>36</td>\n",
       "      <td>Other</td>\n",
       "      <td>24</td>\n",
       "      <td>-</td>\n",
       "      <td>Yes</td>\n",
       "      <td>semiautomatic rifle</td>\n",
       "      <td>White</td>\n",
       "      <td>M</td>\n",
       "      <td>https://www.nytimes.com/2019/08/04/us/dayton-o...</td>\n",
       "      <td>39.757312</td>\n",
       "      <td>-84.184947</td>\n",
       "    </tr>\n",
       "  </tbody>\n",
       "</table>\n",
       "</div>"
      ],
      "text/plain": [
       "                                     case                 location      date  \\\n",
       "0                   Molson Coors shooting     Milwaukee, Wisconsin   2/26/20   \n",
       "1      Jersey City kosher market shooting  Jersey City, New Jersey  12/10/19   \n",
       "2           Pensacola Naval base shooting       Pensacola, Florida   12/6/19   \n",
       "3           Odessa-Midland shooting spree            Odessa, Texas   8/31/19   \n",
       "4  Dayton entertainment district shooting             Dayton, Ohio    8/4/19   \n",
       "\n",
       "                                             summary  fatalities  injured  \\\n",
       "0  Anthony Ferrill, 51, an employee armed with tw...           5        0   \n",
       "1  David N. Anderson, 47, and Francine Graham, 50...           4        3   \n",
       "2  Ahmed Mohammed al-Shamrani, A Saudi Arabian mi...           3        8   \n",
       "3  Seth A. Ator, 36, fired at police officers who...           7       25   \n",
       "4  Connor Betts, 24, died during the attack, foll...           9       27   \n",
       "\n",
       "   total_victims location.1 age_of_shooter prior_signs_mental_health_issues  \\\n",
       "0              5  Workplace             51                                -   \n",
       "1              7      Other              -                                -   \n",
       "2             11   Military              -                                -   \n",
       "3             32      Other             36                              yes   \n",
       "4             36      Other             24                                -   \n",
       "\n",
       "  weapons_obtained_legally            weapon_type   race gender  \\\n",
       "0                        -  semiautomatic handgun  Black      M   \n",
       "1                        -                      -  Black      -   \n",
       "2                        -  semiautomatic handgun      -      M   \n",
       "3                        -    semiautomatic rifle  White      M   \n",
       "4                      Yes    semiautomatic rifle  White      M   \n",
       "\n",
       "                                             sources   latitude   longitude  \n",
       "0  https://www.jsonline.com/story/news/local/2020...  43.044511  -87.962537  \n",
       "1  https://www.nytimes.com/2019/12/15/nyregion/je...  40.707363  -74.083609  \n",
       "2  https://www.washingtonpost.com/national-securi...  30.364707  -87.288567  \n",
       "3  https://www.washingtonpost.com/politics/5-kill...  31.925974 -102.279600  \n",
       "4  https://www.nytimes.com/2019/08/04/us/dayton-o...  39.757312  -84.184947  "
      ]
     },
     "execution_count": 3,
     "metadata": {},
     "output_type": "execute_result"
    }
   ],
   "source": [
    "df.head()"
   ]
  },
  {
   "cell_type": "code",
   "execution_count": 4,
   "metadata": {},
   "outputs": [],
   "source": [
    "#on renomme la colonne \"location.1\" pour éviter toute sorte d'erreur\n",
    "df=df.rename(columns = {'location.1': 'place'})"
   ]
  },
  {
   "cell_type": "code",
   "execution_count": 5,
   "metadata": {},
   "outputs": [],
   "source": [
    "#on exporte notre bdd nettoyé \n",
    "df.to_csv('public/datasets/database_usa_final.csv',index = False)"
   ]
  },
  {
   "cell_type": "markdown",
   "metadata": {},
   "source": [
    "On veut réprésenter l'évolution des victimes dans le temps"
   ]
  },
  {
   "cell_type": "code",
   "execution_count": 6,
   "metadata": {},
   "outputs": [
    {
     "data": {
      "text/plain": [
       "Index(['case', 'location', 'date', 'summary', 'fatalities', 'injured',\n",
       "       'total_victims', 'place', 'age_of_shooter',\n",
       "       'prior_signs_mental_health_issues', 'weapons_obtained_legally',\n",
       "       'weapon_type', 'race', 'gender', 'sources', 'latitude', 'longitude'],\n",
       "      dtype='object')"
      ]
     },
     "execution_count": 6,
     "metadata": {},
     "output_type": "execute_result"
    }
   ],
   "source": [
    "df1=pd.read_csv('public/datasets/database_usa_final.csv')\n",
    "\n",
    "df1.columns\n",
    "\n",
    "#on garde les colonnes:\n",
    "# 4: date\n",
    "# 6: fatalities\n",
    "# 7: injured\n",
    "# 8: total_victims"
   ]
  },
  {
   "cell_type": "code",
   "execution_count": 7,
   "metadata": {},
   "outputs": [
    {
     "data": {
      "text/html": [
       "<div>\n",
       "<style scoped>\n",
       "    .dataframe tbody tr th:only-of-type {\n",
       "        vertical-align: middle;\n",
       "    }\n",
       "\n",
       "    .dataframe tbody tr th {\n",
       "        vertical-align: top;\n",
       "    }\n",
       "\n",
       "    .dataframe thead th {\n",
       "        text-align: right;\n",
       "    }\n",
       "</style>\n",
       "<table border=\"1\" class=\"dataframe\">\n",
       "  <thead>\n",
       "    <tr style=\"text-align: right;\">\n",
       "      <th></th>\n",
       "      <th>date</th>\n",
       "      <th>fatalities</th>\n",
       "      <th>injured</th>\n",
       "      <th>total_victims</th>\n",
       "    </tr>\n",
       "  </thead>\n",
       "  <tbody>\n",
       "    <tr>\n",
       "      <th>0</th>\n",
       "      <td>2/26/20</td>\n",
       "      <td>5</td>\n",
       "      <td>0</td>\n",
       "      <td>5</td>\n",
       "    </tr>\n",
       "    <tr>\n",
       "      <th>1</th>\n",
       "      <td>12/10/19</td>\n",
       "      <td>4</td>\n",
       "      <td>3</td>\n",
       "      <td>7</td>\n",
       "    </tr>\n",
       "    <tr>\n",
       "      <th>2</th>\n",
       "      <td>12/6/19</td>\n",
       "      <td>3</td>\n",
       "      <td>8</td>\n",
       "      <td>11</td>\n",
       "    </tr>\n",
       "    <tr>\n",
       "      <th>3</th>\n",
       "      <td>8/31/19</td>\n",
       "      <td>7</td>\n",
       "      <td>25</td>\n",
       "      <td>32</td>\n",
       "    </tr>\n",
       "    <tr>\n",
       "      <th>4</th>\n",
       "      <td>8/4/19</td>\n",
       "      <td>9</td>\n",
       "      <td>27</td>\n",
       "      <td>36</td>\n",
       "    </tr>\n",
       "  </tbody>\n",
       "</table>\n",
       "</div>"
      ],
      "text/plain": [
       "       date  fatalities  injured  total_victims\n",
       "0   2/26/20           5        0              5\n",
       "1  12/10/19           4        3              7\n",
       "2   12/6/19           3        8             11\n",
       "3   8/31/19           7       25             32\n",
       "4    8/4/19           9       27             36"
      ]
     },
     "execution_count": 7,
     "metadata": {},
     "output_type": "execute_result"
    }
   ],
   "source": [
    "mycolumns = ['date','fatalities','injured','total_victims'] \n",
    "evolution_victims = df1[mycolumns]\n",
    "evolution_victims.head()"
   ]
  },
  {
   "cell_type": "code",
   "execution_count": 8,
   "metadata": {},
   "outputs": [
    {
     "name": "stderr",
     "output_type": "stream",
     "text": [
      "C:\\Users\\selou\\anaconda3\\lib\\site-packages\\ipykernel_launcher.py:1: SettingWithCopyWarning: \n",
      "A value is trying to be set on a copy of a slice from a DataFrame.\n",
      "Try using .loc[row_indexer,col_indexer] = value instead\n",
      "\n",
      "See the caveats in the documentation: https://pandas.pydata.org/pandas-docs/stable/user_guide/indexing.html#returning-a-view-versus-a-copy\n",
      "  \"\"\"Entry point for launching an IPython kernel.\n"
     ]
    }
   ],
   "source": [
    "evolution_victims['date'] = pd.to_datetime(evolution_victims.date)\n",
    "evolution_victims = evolution_victims.sort_values(by='date')"
   ]
  },
  {
   "cell_type": "code",
   "execution_count": 9,
   "metadata": {},
   "outputs": [
    {
     "data": {
      "text/plain": [
       "117   1982-08-20\n",
       "116   1984-06-29\n",
       "115   1984-07-18\n",
       "114   1986-08-20\n",
       "113   1987-04-23\n",
       "         ...    \n",
       "4     2019-08-04\n",
       "3     2019-08-31\n",
       "2     2019-12-06\n",
       "1     2019-12-10\n",
       "0     2020-02-26\n",
       "Name: date, Length: 118, dtype: datetime64[ns]"
      ]
     },
     "execution_count": 9,
     "metadata": {},
     "output_type": "execute_result"
    }
   ],
   "source": [
    "evolution_victims['date']"
   ]
  },
  {
   "cell_type": "code",
   "execution_count": 10,
   "metadata": {},
   "outputs": [],
   "source": [
    "#on exporte notre table\n",
    "evolution_victims=evolution_victims.to_csv('public/datasets/evolution_victims.csv', index = False)"
   ]
  },
  {
   "cell_type": "markdown",
   "metadata": {},
   "source": [
    "on s'interresse au nombre de fusillades et pas des victimes :"
   ]
  },
  {
   "cell_type": "code",
   "execution_count": 11,
   "metadata": {},
   "outputs": [
    {
     "data": {
      "text/html": [
       "<div>\n",
       "<style scoped>\n",
       "    .dataframe tbody tr th:only-of-type {\n",
       "        vertical-align: middle;\n",
       "    }\n",
       "\n",
       "    .dataframe tbody tr th {\n",
       "        vertical-align: top;\n",
       "    }\n",
       "\n",
       "    .dataframe thead th {\n",
       "        text-align: right;\n",
       "    }\n",
       "</style>\n",
       "<table border=\"1\" class=\"dataframe\">\n",
       "  <thead>\n",
       "    <tr style=\"text-align: right;\">\n",
       "      <th></th>\n",
       "      <th>date</th>\n",
       "      <th>fatalities</th>\n",
       "      <th>injured</th>\n",
       "      <th>total_victims</th>\n",
       "    </tr>\n",
       "  </thead>\n",
       "  <tbody>\n",
       "    <tr>\n",
       "      <th>0</th>\n",
       "      <td>1982-08-20</td>\n",
       "      <td>8</td>\n",
       "      <td>3</td>\n",
       "      <td>11</td>\n",
       "    </tr>\n",
       "    <tr>\n",
       "      <th>1</th>\n",
       "      <td>1984-06-29</td>\n",
       "      <td>6</td>\n",
       "      <td>1</td>\n",
       "      <td>7</td>\n",
       "    </tr>\n",
       "    <tr>\n",
       "      <th>2</th>\n",
       "      <td>1984-07-18</td>\n",
       "      <td>22</td>\n",
       "      <td>19</td>\n",
       "      <td>41</td>\n",
       "    </tr>\n",
       "    <tr>\n",
       "      <th>3</th>\n",
       "      <td>1986-08-20</td>\n",
       "      <td>15</td>\n",
       "      <td>6</td>\n",
       "      <td>21</td>\n",
       "    </tr>\n",
       "    <tr>\n",
       "      <th>4</th>\n",
       "      <td>1987-04-23</td>\n",
       "      <td>6</td>\n",
       "      <td>14</td>\n",
       "      <td>20</td>\n",
       "    </tr>\n",
       "  </tbody>\n",
       "</table>\n",
       "</div>"
      ],
      "text/plain": [
       "        date  fatalities  injured  total_victims\n",
       "0 1982-08-20           8        3             11\n",
       "1 1984-06-29           6        1              7\n",
       "2 1984-07-18          22       19             41\n",
       "3 1986-08-20          15        6             21\n",
       "4 1987-04-23           6       14             20"
      ]
     },
     "execution_count": 11,
     "metadata": {},
     "output_type": "execute_result"
    }
   ],
   "source": [
    "df5=pd.read_csv('public/datasets/evolution_victims.csv')\n",
    "\n",
    "df5['date'] = pd.to_datetime(df5.date)\n",
    "df5 = df5.sort_values(by='date')\n",
    "\n",
    "df5.head()"
   ]
  },
  {
   "cell_type": "code",
   "execution_count": 12,
   "metadata": {},
   "outputs": [],
   "source": [
    "df5['year'] = df5['date'].dt.year"
   ]
  },
  {
   "cell_type": "code",
   "execution_count": 13,
   "metadata": {},
   "outputs": [
    {
     "data": {
      "text/plain": [
       "2018    12\n",
       "2017    11\n",
       "2019    10\n",
       "2015     7\n",
       "2012     7\n",
       "2016     6\n",
       "1999     5\n",
       "2013     5\n",
       "2007     4\n",
       "2009     4\n",
       "1993     4\n",
       "2014     4\n",
       "2008     3\n",
       "2006     3\n",
       "2011     3\n",
       "1998     3\n",
       "1991     3\n",
       "1984     2\n",
       "1992     2\n",
       "2005     2\n",
       "1997     2\n",
       "1989     2\n",
       "1986     1\n",
       "1987     1\n",
       "1988     1\n",
       "1990     1\n",
       "2020     1\n",
       "2001     1\n",
       "1994     1\n",
       "1995     1\n",
       "1996     1\n",
       "2000     1\n",
       "2003     1\n",
       "2004     1\n",
       "2010     1\n",
       "1982     1\n",
       "Name: year, dtype: int64"
      ]
     },
     "execution_count": 13,
     "metadata": {},
     "output_type": "execute_result"
    }
   ],
   "source": [
    "fusillade_count=df5['year'].value_counts(dropna=False)\n",
    "fusillade_count"
   ]
  },
  {
   "cell_type": "code",
   "execution_count": 14,
   "metadata": {},
   "outputs": [],
   "source": [
    "fusillade_count=fusillade_count.to_csv('public/datasets/fusillade_count.csv')"
   ]
  },
  {
   "cell_type": "code",
   "execution_count": 15,
   "metadata": {},
   "outputs": [],
   "source": [
    "fusillade_count=pd.read_csv('public/datasets/fusillade_count.csv')"
   ]
  },
  {
   "cell_type": "code",
   "execution_count": 16,
   "metadata": {},
   "outputs": [],
   "source": [
    "fusillade_count=fusillade_count.rename(columns = {'Unnamed: 0': 'Year'})\n",
    "fusillade_count=fusillade_count.rename(columns = {'year': 'Count'})"
   ]
  },
  {
   "cell_type": "code",
   "execution_count": 17,
   "metadata": {},
   "outputs": [
    {
     "data": {
      "text/plain": [
       "Year     datetime64[ns]\n",
       "Count             int64\n",
       "dtype: object"
      ]
     },
     "execution_count": 17,
     "metadata": {},
     "output_type": "execute_result"
    }
   ],
   "source": [
    "fusillade_count['Year'] = pd.to_datetime(fusillade_count['Year'], format='%Y')\n",
    "fusillade_count.dtypes"
   ]
  },
  {
   "cell_type": "code",
   "execution_count": 18,
   "metadata": {},
   "outputs": [],
   "source": [
    "fusillade_count = fusillade_count.sort_values(by='Year')"
   ]
  },
  {
   "cell_type": "code",
   "execution_count": 19,
   "metadata": {},
   "outputs": [],
   "source": [
    "fusillade_count=fusillade_count.to_csv('public/datasets/fusillade_count.csv', index=False)\n",
    "\n",
    "fusillade_count=pd.read_csv('public/datasets/fusillade_count.csv')"
   ]
  },
  {
   "cell_type": "code",
   "execution_count": 20,
   "metadata": {},
   "outputs": [],
   "source": [
    "#on transforme notre csv fusillade_count.csv pour des raisons de traitement \n",
    "fusillade_count.to_json(\"public/datasets/fusillade_count.json\", orient = \"records\", date_format = \"epoch\",\n",
    "                        double_precision = 10, force_ascii = True, date_unit = \"ms\", default_handler = None)"
   ]
  },
  {
   "cell_type": "markdown",
   "metadata": {},
   "source": [
    "On veut réprésenter la répartition des éthnies"
   ]
  },
  {
   "cell_type": "code",
   "execution_count": 21,
   "metadata": {},
   "outputs": [
    {
     "data": {
      "text/plain": [
       "white              41\n",
       "White              23\n",
       "Black              12\n",
       "Latino             10\n",
       "black               9\n",
       "Asian               8\n",
       "Other               5\n",
       "-                   5\n",
       "Native American     3\n",
       "White               1\n",
       "unclear             1\n",
       "Name: race, dtype: int64"
      ]
     },
     "execution_count": 21,
     "metadata": {},
     "output_type": "execute_result"
    }
   ],
   "source": [
    "df1['race'].value_counts(dropna=False)\n",
    "\n",
    "#on voit que dans la colonne correspondant à l'éthnie\n",
    "#l'orthographe de certaines valeurs pose problème\n",
    "#exemple:  il y a White et white, Black et black \n",
    "\n",
    "#du coup on va essayer de nettoyer tout ça"
   ]
  },
  {
   "cell_type": "code",
   "execution_count": 22,
   "metadata": {},
   "outputs": [],
   "source": [
    "ethnie = df1['race'].replace([\"white\", \"White \", \"black\", \"unclear\", \"-\"],[\"White\", \"White\", \"Black\", \"Other\", \"Other\"])"
   ]
  },
  {
   "cell_type": "code",
   "execution_count": 23,
   "metadata": {},
   "outputs": [
    {
     "data": {
      "text/plain": [
       "0      Black\n",
       "1      Black\n",
       "2      Other\n",
       "3      White\n",
       "4      White\n",
       "       ...  \n",
       "113    White\n",
       "114    White\n",
       "115    White\n",
       "116    White\n",
       "117    White\n",
       "Name: race, Length: 118, dtype: object"
      ]
     },
     "execution_count": 23,
     "metadata": {},
     "output_type": "execute_result"
    }
   ],
   "source": [
    "ethnie"
   ]
  },
  {
   "cell_type": "code",
   "execution_count": 24,
   "metadata": {},
   "outputs": [
    {
     "data": {
      "text/plain": [
       "White              65\n",
       "Black              21\n",
       "Other              11\n",
       "Latino             10\n",
       "Asian               8\n",
       "Native American     3\n",
       "Name: race, dtype: int64"
      ]
     },
     "execution_count": 24,
     "metadata": {},
     "output_type": "execute_result"
    }
   ],
   "source": [
    "ethnie_count = ethnie.value_counts(dropna=False)\n",
    "ethnie_count"
   ]
  },
  {
   "cell_type": "code",
   "execution_count": 25,
   "metadata": {},
   "outputs": [],
   "source": [
    "#on exporte notre table\n",
    "ethnie_count=ethnie_count.to_csv('public/datasets/repartition_ethnie.csv')"
   ]
  },
  {
   "cell_type": "code",
   "execution_count": 26,
   "metadata": {},
   "outputs": [],
   "source": [
    "ethnie_count=pd.read_csv('public/datasets/repartition_ethnie.csv')"
   ]
  },
  {
   "cell_type": "code",
   "execution_count": 27,
   "metadata": {},
   "outputs": [
    {
     "data": {
      "text/html": [
       "<div>\n",
       "<style scoped>\n",
       "    .dataframe tbody tr th:only-of-type {\n",
       "        vertical-align: middle;\n",
       "    }\n",
       "\n",
       "    .dataframe tbody tr th {\n",
       "        vertical-align: top;\n",
       "    }\n",
       "\n",
       "    .dataframe thead th {\n",
       "        text-align: right;\n",
       "    }\n",
       "</style>\n",
       "<table border=\"1\" class=\"dataframe\">\n",
       "  <thead>\n",
       "    <tr style=\"text-align: right;\">\n",
       "      <th></th>\n",
       "      <th>Unnamed: 0</th>\n",
       "      <th>race</th>\n",
       "    </tr>\n",
       "  </thead>\n",
       "  <tbody>\n",
       "    <tr>\n",
       "      <th>0</th>\n",
       "      <td>White</td>\n",
       "      <td>65</td>\n",
       "    </tr>\n",
       "    <tr>\n",
       "      <th>1</th>\n",
       "      <td>Black</td>\n",
       "      <td>21</td>\n",
       "    </tr>\n",
       "    <tr>\n",
       "      <th>2</th>\n",
       "      <td>Other</td>\n",
       "      <td>11</td>\n",
       "    </tr>\n",
       "    <tr>\n",
       "      <th>3</th>\n",
       "      <td>Latino</td>\n",
       "      <td>10</td>\n",
       "    </tr>\n",
       "    <tr>\n",
       "      <th>4</th>\n",
       "      <td>Asian</td>\n",
       "      <td>8</td>\n",
       "    </tr>\n",
       "    <tr>\n",
       "      <th>5</th>\n",
       "      <td>Native American</td>\n",
       "      <td>3</td>\n",
       "    </tr>\n",
       "  </tbody>\n",
       "</table>\n",
       "</div>"
      ],
      "text/plain": [
       "        Unnamed: 0  race\n",
       "0            White    65\n",
       "1            Black    21\n",
       "2            Other    11\n",
       "3           Latino    10\n",
       "4            Asian     8\n",
       "5  Native American     3"
      ]
     },
     "execution_count": 27,
     "metadata": {},
     "output_type": "execute_result"
    }
   ],
   "source": [
    "ethnie_count"
   ]
  },
  {
   "cell_type": "code",
   "execution_count": 28,
   "metadata": {},
   "outputs": [],
   "source": [
    "ethnie_count=ethnie_count.rename(columns = {'Unnamed: 0': 'Race'})\n",
    "ethnie_count=ethnie_count.rename(columns = {'race': 'Count'})"
   ]
  },
  {
   "cell_type": "code",
   "execution_count": 29,
   "metadata": {},
   "outputs": [],
   "source": [
    "ethnie_count=ethnie_count.to_csv('public/datasets/repartition_ethnie.csv',index = False)"
   ]
  },
  {
   "cell_type": "markdown",
   "metadata": {},
   "source": [
    "On veut réprésenter les total_victims sur la map des USA "
   ]
  },
  {
   "cell_type": "code",
   "execution_count": 30,
   "metadata": {},
   "outputs": [
    {
     "data": {
      "text/html": [
       "<div>\n",
       "<style scoped>\n",
       "    .dataframe tbody tr th:only-of-type {\n",
       "        vertical-align: middle;\n",
       "    }\n",
       "\n",
       "    .dataframe tbody tr th {\n",
       "        vertical-align: top;\n",
       "    }\n",
       "\n",
       "    .dataframe thead th {\n",
       "        text-align: right;\n",
       "    }\n",
       "</style>\n",
       "<table border=\"1\" class=\"dataframe\">\n",
       "  <thead>\n",
       "    <tr style=\"text-align: right;\">\n",
       "      <th></th>\n",
       "      <th>location</th>\n",
       "      <th>total_victims</th>\n",
       "    </tr>\n",
       "  </thead>\n",
       "  <tbody>\n",
       "    <tr>\n",
       "      <th>0</th>\n",
       "      <td>Milwaukee, Wisconsin</td>\n",
       "      <td>5</td>\n",
       "    </tr>\n",
       "    <tr>\n",
       "      <th>1</th>\n",
       "      <td>Jersey City, New Jersey</td>\n",
       "      <td>7</td>\n",
       "    </tr>\n",
       "    <tr>\n",
       "      <th>2</th>\n",
       "      <td>Pensacola, Florida</td>\n",
       "      <td>11</td>\n",
       "    </tr>\n",
       "    <tr>\n",
       "      <th>3</th>\n",
       "      <td>Odessa, Texas</td>\n",
       "      <td>32</td>\n",
       "    </tr>\n",
       "    <tr>\n",
       "      <th>4</th>\n",
       "      <td>Dayton, Ohio</td>\n",
       "      <td>36</td>\n",
       "    </tr>\n",
       "    <tr>\n",
       "      <th>...</th>\n",
       "      <td>...</td>\n",
       "      <td>...</td>\n",
       "    </tr>\n",
       "    <tr>\n",
       "      <th>113</th>\n",
       "      <td>Palm Bay, Florida</td>\n",
       "      <td>20</td>\n",
       "    </tr>\n",
       "    <tr>\n",
       "      <th>114</th>\n",
       "      <td>Edmond, Oklahoma</td>\n",
       "      <td>21</td>\n",
       "    </tr>\n",
       "    <tr>\n",
       "      <th>115</th>\n",
       "      <td>San Ysidro, California</td>\n",
       "      <td>41</td>\n",
       "    </tr>\n",
       "    <tr>\n",
       "      <th>116</th>\n",
       "      <td>Dallas, Texas</td>\n",
       "      <td>7</td>\n",
       "    </tr>\n",
       "    <tr>\n",
       "      <th>117</th>\n",
       "      <td>Miami, Florida</td>\n",
       "      <td>11</td>\n",
       "    </tr>\n",
       "  </tbody>\n",
       "</table>\n",
       "<p>118 rows × 2 columns</p>\n",
       "</div>"
      ],
      "text/plain": [
       "                    location  total_victims\n",
       "0       Milwaukee, Wisconsin              5\n",
       "1    Jersey City, New Jersey              7\n",
       "2         Pensacola, Florida             11\n",
       "3              Odessa, Texas             32\n",
       "4               Dayton, Ohio             36\n",
       "..                       ...            ...\n",
       "113        Palm Bay, Florida             20\n",
       "114         Edmond, Oklahoma             21\n",
       "115   San Ysidro, California             41\n",
       "116            Dallas, Texas              7\n",
       "117           Miami, Florida             11\n",
       "\n",
       "[118 rows x 2 columns]"
      ]
     },
     "execution_count": 30,
     "metadata": {},
     "output_type": "execute_result"
    }
   ],
   "source": [
    "mycolumns2 = ['location','total_victims'] \n",
    "map_victims= df1[mycolumns2]\n",
    "map_victims"
   ]
  },
  {
   "cell_type": "code",
   "execution_count": 31,
   "metadata": {},
   "outputs": [
    {
     "name": "stderr",
     "output_type": "stream",
     "text": [
      "C:\\Users\\selou\\anaconda3\\lib\\site-packages\\pandas\\core\\frame.py:2963: SettingWithCopyWarning: \n",
      "A value is trying to be set on a copy of a slice from a DataFrame.\n",
      "Try using .loc[row_indexer,col_indexer] = value instead\n",
      "\n",
      "See the caveats in the documentation: https://pandas.pydata.org/pandas-docs/stable/user_guide/indexing.html#returning-a-view-versus-a-copy\n",
      "  self[k1] = value[k2]\n"
     ]
    }
   ],
   "source": [
    "map_victims[['city','state']] = map_victims.location.str.split(\",\",expand=True,)"
   ]
  },
  {
   "cell_type": "code",
   "execution_count": 32,
   "metadata": {},
   "outputs": [],
   "source": [
    "map_victims= map_victims[['total_victims','city','state']]"
   ]
  },
  {
   "cell_type": "code",
   "execution_count": 33,
   "metadata": {},
   "outputs": [],
   "source": [
    "map_victims = map_victims.sort_values(by='state')"
   ]
  },
  {
   "cell_type": "code",
   "execution_count": 34,
   "metadata": {},
   "outputs": [],
   "source": [
    "map_victims = map_victims.groupby(['state']).sum() ######## SOMME"
   ]
  },
  {
   "cell_type": "code",
   "execution_count": 35,
   "metadata": {},
   "outputs": [],
   "source": [
    "#on exporte notre table\n",
    "map_victims=map_victims.to_csv('public/datasets/map_victims.csv')"
   ]
  },
  {
   "cell_type": "markdown",
   "metadata": {},
   "source": [
    "On veut réprésenter les total_victims sur la map des USA"
   ]
  },
  {
   "cell_type": "code",
   "execution_count": 36,
   "metadata": {},
   "outputs": [],
   "source": [
    "df3=df1"
   ]
  },
  {
   "cell_type": "code",
   "execution_count": 37,
   "metadata": {},
   "outputs": [
    {
     "data": {
      "text/html": [
       "<div>\n",
       "<style scoped>\n",
       "    .dataframe tbody tr th:only-of-type {\n",
       "        vertical-align: middle;\n",
       "    }\n",
       "\n",
       "    .dataframe tbody tr th {\n",
       "        vertical-align: top;\n",
       "    }\n",
       "\n",
       "    .dataframe thead th {\n",
       "        text-align: right;\n",
       "    }\n",
       "</style>\n",
       "<table border=\"1\" class=\"dataframe\">\n",
       "  <thead>\n",
       "    <tr style=\"text-align: right;\">\n",
       "      <th></th>\n",
       "      <th>case</th>\n",
       "      <th>location</th>\n",
       "      <th>date</th>\n",
       "      <th>summary</th>\n",
       "      <th>fatalities</th>\n",
       "      <th>injured</th>\n",
       "      <th>total_victims</th>\n",
       "      <th>place</th>\n",
       "      <th>age_of_shooter</th>\n",
       "      <th>prior_signs_mental_health_issues</th>\n",
       "      <th>weapons_obtained_legally</th>\n",
       "      <th>weapon_type</th>\n",
       "      <th>race</th>\n",
       "      <th>gender</th>\n",
       "      <th>sources</th>\n",
       "      <th>latitude</th>\n",
       "      <th>longitude</th>\n",
       "    </tr>\n",
       "  </thead>\n",
       "  <tbody>\n",
       "    <tr>\n",
       "      <th>0</th>\n",
       "      <td>Molson Coors shooting</td>\n",
       "      <td>Milwaukee, Wisconsin</td>\n",
       "      <td>2/26/20</td>\n",
       "      <td>Anthony Ferrill, 51, an employee armed with tw...</td>\n",
       "      <td>5</td>\n",
       "      <td>0</td>\n",
       "      <td>5</td>\n",
       "      <td>Workplace</td>\n",
       "      <td>51</td>\n",
       "      <td>-</td>\n",
       "      <td>-</td>\n",
       "      <td>semiautomatic handgun</td>\n",
       "      <td>Black</td>\n",
       "      <td>M</td>\n",
       "      <td>https://www.jsonline.com/story/news/local/2020...</td>\n",
       "      <td>43.044511</td>\n",
       "      <td>-87.962537</td>\n",
       "    </tr>\n",
       "    <tr>\n",
       "      <th>1</th>\n",
       "      <td>Jersey City kosher market shooting</td>\n",
       "      <td>Jersey City, New Jersey</td>\n",
       "      <td>12/10/19</td>\n",
       "      <td>David N. Anderson, 47, and Francine Graham, 50...</td>\n",
       "      <td>4</td>\n",
       "      <td>3</td>\n",
       "      <td>7</td>\n",
       "      <td>Other</td>\n",
       "      <td>-</td>\n",
       "      <td>-</td>\n",
       "      <td>-</td>\n",
       "      <td>-</td>\n",
       "      <td>Black</td>\n",
       "      <td>-</td>\n",
       "      <td>https://www.nytimes.com/2019/12/15/nyregion/je...</td>\n",
       "      <td>40.707363</td>\n",
       "      <td>-74.083609</td>\n",
       "    </tr>\n",
       "    <tr>\n",
       "      <th>2</th>\n",
       "      <td>Pensacola Naval base shooting</td>\n",
       "      <td>Pensacola, Florida</td>\n",
       "      <td>12/6/19</td>\n",
       "      <td>Ahmed Mohammed al-Shamrani, A Saudi Arabian mi...</td>\n",
       "      <td>3</td>\n",
       "      <td>8</td>\n",
       "      <td>11</td>\n",
       "      <td>Military</td>\n",
       "      <td>-</td>\n",
       "      <td>-</td>\n",
       "      <td>-</td>\n",
       "      <td>semiautomatic handgun</td>\n",
       "      <td>-</td>\n",
       "      <td>M</td>\n",
       "      <td>https://www.washingtonpost.com/national-securi...</td>\n",
       "      <td>30.364707</td>\n",
       "      <td>-87.288567</td>\n",
       "    </tr>\n",
       "    <tr>\n",
       "      <th>3</th>\n",
       "      <td>Odessa-Midland shooting spree</td>\n",
       "      <td>Odessa, Texas</td>\n",
       "      <td>8/31/19</td>\n",
       "      <td>Seth A. Ator, 36, fired at police officers who...</td>\n",
       "      <td>7</td>\n",
       "      <td>25</td>\n",
       "      <td>32</td>\n",
       "      <td>Other</td>\n",
       "      <td>36</td>\n",
       "      <td>yes</td>\n",
       "      <td>-</td>\n",
       "      <td>semiautomatic rifle</td>\n",
       "      <td>White</td>\n",
       "      <td>M</td>\n",
       "      <td>https://www.washingtonpost.com/politics/5-kill...</td>\n",
       "      <td>31.925974</td>\n",
       "      <td>-102.279600</td>\n",
       "    </tr>\n",
       "    <tr>\n",
       "      <th>4</th>\n",
       "      <td>Dayton entertainment district shooting</td>\n",
       "      <td>Dayton, Ohio</td>\n",
       "      <td>8/4/19</td>\n",
       "      <td>Connor Betts, 24, died during the attack, foll...</td>\n",
       "      <td>9</td>\n",
       "      <td>27</td>\n",
       "      <td>36</td>\n",
       "      <td>Other</td>\n",
       "      <td>24</td>\n",
       "      <td>-</td>\n",
       "      <td>Yes</td>\n",
       "      <td>semiautomatic rifle</td>\n",
       "      <td>White</td>\n",
       "      <td>M</td>\n",
       "      <td>https://www.nytimes.com/2019/08/04/us/dayton-o...</td>\n",
       "      <td>39.757312</td>\n",
       "      <td>-84.184947</td>\n",
       "    </tr>\n",
       "  </tbody>\n",
       "</table>\n",
       "</div>"
      ],
      "text/plain": [
       "                                     case                 location      date  \\\n",
       "0                   Molson Coors shooting     Milwaukee, Wisconsin   2/26/20   \n",
       "1      Jersey City kosher market shooting  Jersey City, New Jersey  12/10/19   \n",
       "2           Pensacola Naval base shooting       Pensacola, Florida   12/6/19   \n",
       "3           Odessa-Midland shooting spree            Odessa, Texas   8/31/19   \n",
       "4  Dayton entertainment district shooting             Dayton, Ohio    8/4/19   \n",
       "\n",
       "                                             summary  fatalities  injured  \\\n",
       "0  Anthony Ferrill, 51, an employee armed with tw...           5        0   \n",
       "1  David N. Anderson, 47, and Francine Graham, 50...           4        3   \n",
       "2  Ahmed Mohammed al-Shamrani, A Saudi Arabian mi...           3        8   \n",
       "3  Seth A. Ator, 36, fired at police officers who...           7       25   \n",
       "4  Connor Betts, 24, died during the attack, foll...           9       27   \n",
       "\n",
       "   total_victims      place age_of_shooter prior_signs_mental_health_issues  \\\n",
       "0              5  Workplace             51                                -   \n",
       "1              7      Other              -                                -   \n",
       "2             11   Military              -                                -   \n",
       "3             32      Other             36                              yes   \n",
       "4             36      Other             24                                -   \n",
       "\n",
       "  weapons_obtained_legally            weapon_type   race gender  \\\n",
       "0                        -  semiautomatic handgun  Black      M   \n",
       "1                        -                      -  Black      -   \n",
       "2                        -  semiautomatic handgun      -      M   \n",
       "3                        -    semiautomatic rifle  White      M   \n",
       "4                      Yes    semiautomatic rifle  White      M   \n",
       "\n",
       "                                             sources   latitude   longitude  \n",
       "0  https://www.jsonline.com/story/news/local/2020...  43.044511  -87.962537  \n",
       "1  https://www.nytimes.com/2019/12/15/nyregion/je...  40.707363  -74.083609  \n",
       "2  https://www.washingtonpost.com/national-securi...  30.364707  -87.288567  \n",
       "3  https://www.washingtonpost.com/politics/5-kill...  31.925974 -102.279600  \n",
       "4  https://www.nytimes.com/2019/08/04/us/dayton-o...  39.757312  -84.184947  "
      ]
     },
     "execution_count": 37,
     "metadata": {},
     "output_type": "execute_result"
    }
   ],
   "source": [
    "df3.head()"
   ]
  },
  {
   "cell_type": "code",
   "execution_count": 38,
   "metadata": {},
   "outputs": [],
   "source": [
    "df3[['city','state']] = df3.location.str.split(\",\",expand=True,)\n",
    "#on va enlever l'espace qui est resté devant les cities et les states:\n",
    "df3['city']=df3.city.str.strip()\n",
    "df3['state']=df3.state.str.strip()"
   ]
  },
  {
   "cell_type": "markdown",
   "metadata": {},
   "source": [
    "On va corriger 2 erreurs qui se trouvent dans la colonne state créée précèdement\n",
    "Donc on remplace notre Lousiana par Louisana et D.C par District of Columbia"
   ]
  },
  {
   "cell_type": "code",
   "execution_count": 39,
   "metadata": {},
   "outputs": [
    {
     "data": {
      "text/html": [
       "<div>\n",
       "<style scoped>\n",
       "    .dataframe tbody tr th:only-of-type {\n",
       "        vertical-align: middle;\n",
       "    }\n",
       "\n",
       "    .dataframe tbody tr th {\n",
       "        vertical-align: top;\n",
       "    }\n",
       "\n",
       "    .dataframe thead th {\n",
       "        text-align: right;\n",
       "    }\n",
       "</style>\n",
       "<table border=\"1\" class=\"dataframe\">\n",
       "  <thead>\n",
       "    <tr style=\"text-align: right;\">\n",
       "      <th></th>\n",
       "      <th>case</th>\n",
       "      <th>location</th>\n",
       "      <th>date</th>\n",
       "      <th>summary</th>\n",
       "      <th>fatalities</th>\n",
       "      <th>injured</th>\n",
       "      <th>total_victims</th>\n",
       "      <th>place</th>\n",
       "      <th>age_of_shooter</th>\n",
       "      <th>prior_signs_mental_health_issues</th>\n",
       "      <th>weapons_obtained_legally</th>\n",
       "      <th>weapon_type</th>\n",
       "      <th>race</th>\n",
       "      <th>gender</th>\n",
       "      <th>sources</th>\n",
       "      <th>latitude</th>\n",
       "      <th>longitude</th>\n",
       "      <th>city</th>\n",
       "      <th>state</th>\n",
       "    </tr>\n",
       "  </thead>\n",
       "  <tbody>\n",
       "    <tr>\n",
       "      <th>35</th>\n",
       "      <td>Baton Rouge police shooting</td>\n",
       "      <td>Baton Rouge, Lousiana</td>\n",
       "      <td>7/17/2016</td>\n",
       "      <td>Gavin Long, 29, a former Marine who served in ...</td>\n",
       "      <td>3</td>\n",
       "      <td>3</td>\n",
       "      <td>6</td>\n",
       "      <td>Other</td>\n",
       "      <td>29</td>\n",
       "      <td>Yes</td>\n",
       "      <td>Unknown</td>\n",
       "      <td>Two semiautomatic rifles; one semiautomatic ha...</td>\n",
       "      <td>Black</td>\n",
       "      <td>M</td>\n",
       "      <td>http://time.com/4411027/baton-rouge-shooter-ga...</td>\n",
       "      <td>30.433601</td>\n",
       "      <td>-91.081403</td>\n",
       "      <td>Baton Rouge</td>\n",
       "      <td>Lousiana</td>\n",
       "    </tr>\n",
       "  </tbody>\n",
       "</table>\n",
       "</div>"
      ],
      "text/plain": [
       "                           case               location       date  \\\n",
       "35  Baton Rouge police shooting  Baton Rouge, Lousiana  7/17/2016   \n",
       "\n",
       "                                              summary  fatalities  injured  \\\n",
       "35  Gavin Long, 29, a former Marine who served in ...           3        3   \n",
       "\n",
       "    total_victims  place age_of_shooter prior_signs_mental_health_issues  \\\n",
       "35              6  Other             29                              Yes   \n",
       "\n",
       "   weapons_obtained_legally  \\\n",
       "35                  Unknown   \n",
       "\n",
       "                                          weapon_type   race gender  \\\n",
       "35  Two semiautomatic rifles; one semiautomatic ha...  Black      M   \n",
       "\n",
       "                                              sources   latitude  longitude  \\\n",
       "35  http://time.com/4411027/baton-rouge-shooter-ga...  30.433601 -91.081403   \n",
       "\n",
       "           city     state  \n",
       "35  Baton Rouge  Lousiana  "
      ]
     },
     "execution_count": 39,
     "metadata": {},
     "output_type": "execute_result"
    }
   ],
   "source": [
    "df3[df3['state']==\"Lousiana\"]"
   ]
  },
  {
   "cell_type": "code",
   "execution_count": 40,
   "metadata": {},
   "outputs": [
    {
     "name": "stderr",
     "output_type": "stream",
     "text": [
      "C:\\Users\\selou\\anaconda3\\lib\\site-packages\\ipykernel_launcher.py:1: SettingWithCopyWarning: \n",
      "A value is trying to be set on a copy of a slice from a DataFrame\n",
      "\n",
      "See the caveats in the documentation: https://pandas.pydata.org/pandas-docs/stable/user_guide/indexing.html#returning-a-view-versus-a-copy\n",
      "  \"\"\"Entry point for launching an IPython kernel.\n"
     ]
    }
   ],
   "source": [
    "df3['state'][df3['state'] == \"Lousiana\"] = \"Louisiana\""
   ]
  },
  {
   "cell_type": "code",
   "execution_count": 41,
   "metadata": {},
   "outputs": [
    {
     "data": {
      "text/html": [
       "<div>\n",
       "<style scoped>\n",
       "    .dataframe tbody tr th:only-of-type {\n",
       "        vertical-align: middle;\n",
       "    }\n",
       "\n",
       "    .dataframe tbody tr th {\n",
       "        vertical-align: top;\n",
       "    }\n",
       "\n",
       "    .dataframe thead th {\n",
       "        text-align: right;\n",
       "    }\n",
       "</style>\n",
       "<table border=\"1\" class=\"dataframe\">\n",
       "  <thead>\n",
       "    <tr style=\"text-align: right;\">\n",
       "      <th></th>\n",
       "      <th>case</th>\n",
       "      <th>location</th>\n",
       "      <th>date</th>\n",
       "      <th>summary</th>\n",
       "      <th>fatalities</th>\n",
       "      <th>injured</th>\n",
       "      <th>total_victims</th>\n",
       "      <th>place</th>\n",
       "      <th>age_of_shooter</th>\n",
       "      <th>prior_signs_mental_health_issues</th>\n",
       "      <th>weapons_obtained_legally</th>\n",
       "      <th>weapon_type</th>\n",
       "      <th>race</th>\n",
       "      <th>gender</th>\n",
       "      <th>sources</th>\n",
       "      <th>latitude</th>\n",
       "      <th>longitude</th>\n",
       "      <th>city</th>\n",
       "      <th>state</th>\n",
       "    </tr>\n",
       "  </thead>\n",
       "  <tbody>\n",
       "    <tr>\n",
       "      <th>51</th>\n",
       "      <td>Washington Navy Yard shooting</td>\n",
       "      <td>Washington, D.C.</td>\n",
       "      <td>9/16/2013</td>\n",
       "      <td>Aaron Alexis, 34, a military veteran and contr...</td>\n",
       "      <td>12</td>\n",
       "      <td>8</td>\n",
       "      <td>20</td>\n",
       "      <td>Military</td>\n",
       "      <td>34</td>\n",
       "      <td>Yes</td>\n",
       "      <td>Yes</td>\n",
       "      <td>Sawed-off shotgun, 2 boxes of shells; also a ....</td>\n",
       "      <td>Black</td>\n",
       "      <td>Male</td>\n",
       "      <td>http://www.nytimes.com/2013/09/18/us/state-law...</td>\n",
       "      <td>38.874981</td>\n",
       "      <td>-76.99453</td>\n",
       "      <td>Washington</td>\n",
       "      <td>D.C.</td>\n",
       "    </tr>\n",
       "  </tbody>\n",
       "</table>\n",
       "</div>"
      ],
      "text/plain": [
       "                             case          location       date  \\\n",
       "51  Washington Navy Yard shooting  Washington, D.C.  9/16/2013   \n",
       "\n",
       "                                              summary  fatalities  injured  \\\n",
       "51  Aaron Alexis, 34, a military veteran and contr...          12        8   \n",
       "\n",
       "    total_victims     place age_of_shooter prior_signs_mental_health_issues  \\\n",
       "51             20  Military             34                              Yes   \n",
       "\n",
       "   weapons_obtained_legally  \\\n",
       "51                      Yes   \n",
       "\n",
       "                                          weapon_type   race gender  \\\n",
       "51  Sawed-off shotgun, 2 boxes of shells; also a ....  Black   Male   \n",
       "\n",
       "                                              sources   latitude  longitude  \\\n",
       "51  http://www.nytimes.com/2013/09/18/us/state-law...  38.874981  -76.99453   \n",
       "\n",
       "          city state  \n",
       "51  Washington  D.C.  "
      ]
     },
     "execution_count": 41,
     "metadata": {},
     "output_type": "execute_result"
    }
   ],
   "source": [
    "df3[df3['state']==\"D.C.\"]"
   ]
  },
  {
   "cell_type": "code",
   "execution_count": 42,
   "metadata": {},
   "outputs": [
    {
     "name": "stderr",
     "output_type": "stream",
     "text": [
      "C:\\Users\\selou\\anaconda3\\lib\\site-packages\\ipykernel_launcher.py:1: SettingWithCopyWarning: \n",
      "A value is trying to be set on a copy of a slice from a DataFrame\n",
      "\n",
      "See the caveats in the documentation: https://pandas.pydata.org/pandas-docs/stable/user_guide/indexing.html#returning-a-view-versus-a-copy\n",
      "  \"\"\"Entry point for launching an IPython kernel.\n"
     ]
    }
   ],
   "source": [
    "df3['state'][df3['state'] == \"D.C.\"] = \"District of Columbia\""
   ]
  },
  {
   "cell_type": "code",
   "execution_count": 43,
   "metadata": {},
   "outputs": [],
   "source": [
    "df3=df3.to_csv('public/datasets/database_usa_final.csv', index = False)"
   ]
  },
  {
   "cell_type": "markdown",
   "metadata": {},
   "source": [
    "on va faire un pie sur la colonne weapons_obtained_legally"
   ]
  },
  {
   "cell_type": "code",
   "execution_count": 44,
   "metadata": {},
   "outputs": [
    {
     "data": {
      "text/html": [
       "<div>\n",
       "<style scoped>\n",
       "    .dataframe tbody tr th:only-of-type {\n",
       "        vertical-align: middle;\n",
       "    }\n",
       "\n",
       "    .dataframe tbody tr th {\n",
       "        vertical-align: top;\n",
       "    }\n",
       "\n",
       "    .dataframe thead th {\n",
       "        text-align: right;\n",
       "    }\n",
       "</style>\n",
       "<table border=\"1\" class=\"dataframe\">\n",
       "  <thead>\n",
       "    <tr style=\"text-align: right;\">\n",
       "      <th></th>\n",
       "      <th>prior_signs_mental_health_issues</th>\n",
       "    </tr>\n",
       "  </thead>\n",
       "  <tbody>\n",
       "    <tr>\n",
       "      <th>0</th>\n",
       "      <td>-</td>\n",
       "    </tr>\n",
       "    <tr>\n",
       "      <th>1</th>\n",
       "      <td>-</td>\n",
       "    </tr>\n",
       "    <tr>\n",
       "      <th>2</th>\n",
       "      <td>-</td>\n",
       "    </tr>\n",
       "    <tr>\n",
       "      <th>3</th>\n",
       "      <td>yes</td>\n",
       "    </tr>\n",
       "    <tr>\n",
       "      <th>4</th>\n",
       "      <td>-</td>\n",
       "    </tr>\n",
       "    <tr>\n",
       "      <th>...</th>\n",
       "      <td>...</td>\n",
       "    </tr>\n",
       "    <tr>\n",
       "      <th>113</th>\n",
       "      <td>Yes</td>\n",
       "    </tr>\n",
       "    <tr>\n",
       "      <th>114</th>\n",
       "      <td>Unclear</td>\n",
       "    </tr>\n",
       "    <tr>\n",
       "      <th>115</th>\n",
       "      <td>Yes</td>\n",
       "    </tr>\n",
       "    <tr>\n",
       "      <th>116</th>\n",
       "      <td>Yes</td>\n",
       "    </tr>\n",
       "    <tr>\n",
       "      <th>117</th>\n",
       "      <td>Yes</td>\n",
       "    </tr>\n",
       "  </tbody>\n",
       "</table>\n",
       "<p>118 rows × 1 columns</p>\n",
       "</div>"
      ],
      "text/plain": [
       "    prior_signs_mental_health_issues\n",
       "0                                  -\n",
       "1                                  -\n",
       "2                                  -\n",
       "3                                yes\n",
       "4                                  -\n",
       "..                               ...\n",
       "113                              Yes\n",
       "114                         Unclear \n",
       "115                              Yes\n",
       "116                              Yes\n",
       "117                              Yes\n",
       "\n",
       "[118 rows x 1 columns]"
      ]
     },
     "execution_count": 44,
     "metadata": {},
     "output_type": "execute_result"
    }
   ],
   "source": [
    "df3=pd.read_csv('public/datasets/ShootingsDatabase.csv')\n",
    "mental = df3[['prior_signs_mental_health_issues']]\n",
    "mental"
   ]
  },
  {
   "cell_type": "code",
   "execution_count": 45,
   "metadata": {},
   "outputs": [
    {
     "data": {
      "text/plain": [
       "Yes         58\n",
       "Unclear     23\n",
       "No          17\n",
       "-           12\n",
       "TBD          5\n",
       "yes          1\n",
       "Unknown      1\n",
       "Unclear      1\n",
       "Name: prior_signs_mental_health_issues, dtype: int64"
      ]
     },
     "execution_count": 45,
     "metadata": {},
     "output_type": "execute_result"
    }
   ],
   "source": [
    "df3['prior_signs_mental_health_issues'].value_counts(dropna=True)"
   ]
  },
  {
   "cell_type": "code",
   "execution_count": 46,
   "metadata": {},
   "outputs": [],
   "source": [
    "mental = df3['prior_signs_mental_health_issues'].replace([\"yes\", \"Unclear \", \"Unknown\", \"TBD\", \"-\"],\n",
    "                             [\"Yes\", \"Unclear\", \"Unclear\", \"Unclear\", \"Unclear\"])"
   ]
  },
  {
   "cell_type": "code",
   "execution_count": 47,
   "metadata": {},
   "outputs": [],
   "source": [
    "mental = mental.value_counts(dropna=False)"
   ]
  },
  {
   "cell_type": "code",
   "execution_count": 48,
   "metadata": {},
   "outputs": [
    {
     "data": {
      "text/plain": [
       "Yes        59\n",
       "Unclear    42\n",
       "No         17\n",
       "Name: prior_signs_mental_health_issues, dtype: int64"
      ]
     },
     "execution_count": 48,
     "metadata": {},
     "output_type": "execute_result"
    }
   ],
   "source": [
    "mental"
   ]
  },
  {
   "cell_type": "code",
   "execution_count": 49,
   "metadata": {},
   "outputs": [],
   "source": [
    "mental=mental.to_csv('public/datasets/mental.csv')"
   ]
  },
  {
   "cell_type": "code",
   "execution_count": 50,
   "metadata": {},
   "outputs": [],
   "source": [
    "mental=pd.read_csv('public/datasets/mental.csv')"
   ]
  },
  {
   "cell_type": "code",
   "execution_count": 51,
   "metadata": {},
   "outputs": [],
   "source": [
    "mental=mental.rename(columns = {'Unnamed: 0': 'Value'})\n",
    "mental=mental.rename(columns = {'prior_signs_mental_health_issues': 'Count'})"
   ]
  },
  {
   "cell_type": "code",
   "execution_count": 52,
   "metadata": {},
   "outputs": [],
   "source": [
    "#on crée une nouvelle colonne avec le pourcentage\n",
    "total = mental.sum(numeric_only=True)\n",
    "\n",
    "mental['pct'] = round((mental.Count / total.values)*100,2)\n"
   ]
  },
  {
   "cell_type": "code",
   "execution_count": 53,
   "metadata": {},
   "outputs": [
    {
     "data": {
      "text/html": [
       "<div>\n",
       "<style scoped>\n",
       "    .dataframe tbody tr th:only-of-type {\n",
       "        vertical-align: middle;\n",
       "    }\n",
       "\n",
       "    .dataframe tbody tr th {\n",
       "        vertical-align: top;\n",
       "    }\n",
       "\n",
       "    .dataframe thead th {\n",
       "        text-align: right;\n",
       "    }\n",
       "</style>\n",
       "<table border=\"1\" class=\"dataframe\">\n",
       "  <thead>\n",
       "    <tr style=\"text-align: right;\">\n",
       "      <th></th>\n",
       "      <th>Value</th>\n",
       "      <th>Count</th>\n",
       "      <th>pct</th>\n",
       "    </tr>\n",
       "  </thead>\n",
       "  <tbody>\n",
       "    <tr>\n",
       "      <th>0</th>\n",
       "      <td>Yes</td>\n",
       "      <td>59</td>\n",
       "      <td>50.00</td>\n",
       "    </tr>\n",
       "    <tr>\n",
       "      <th>1</th>\n",
       "      <td>Unclear</td>\n",
       "      <td>42</td>\n",
       "      <td>35.59</td>\n",
       "    </tr>\n",
       "    <tr>\n",
       "      <th>2</th>\n",
       "      <td>No</td>\n",
       "      <td>17</td>\n",
       "      <td>14.41</td>\n",
       "    </tr>\n",
       "  </tbody>\n",
       "</table>\n",
       "</div>"
      ],
      "text/plain": [
       "     Value  Count    pct\n",
       "0      Yes     59  50.00\n",
       "1  Unclear     42  35.59\n",
       "2       No     17  14.41"
      ]
     },
     "execution_count": 53,
     "metadata": {},
     "output_type": "execute_result"
    }
   ],
   "source": [
    "mental"
   ]
  },
  {
   "cell_type": "code",
   "execution_count": 54,
   "metadata": {},
   "outputs": [],
   "source": [
    "mental.to_csv('public/datasets/mental.csv',index = False)"
   ]
  },
  {
   "cell_type": "markdown",
   "metadata": {},
   "source": [
    "On va se focus sur l'etat du texas: faire le barchart des éthnies"
   ]
  },
  {
   "cell_type": "code",
   "execution_count": 55,
   "metadata": {},
   "outputs": [],
   "source": [
    "df3=pd.read_csv('public/datasets/database_usa_final.csv')\n",
    "df4 = df3"
   ]
  },
  {
   "cell_type": "code",
   "execution_count": 56,
   "metadata": {},
   "outputs": [],
   "source": [
    "texas = df3[df3['state']==\"Texas\"]"
   ]
  },
  {
   "cell_type": "code",
   "execution_count": 57,
   "metadata": {},
   "outputs": [],
   "source": [
    "ethnieTexas = texas['race'].replace([\"white\", \"White \", \"black\", \"unclear\", \"-\"],[\"White\", \"White\", \"Black\", \"Other\", \"Other\"])"
   ]
  },
  {
   "cell_type": "code",
   "execution_count": 58,
   "metadata": {},
   "outputs": [
    {
     "data": {
      "text/plain": [
       "3       White\n",
       "5       White\n",
       "18      White\n",
       "24      White\n",
       "36      Black\n",
       "49     Latino\n",
       "68      Other\n",
       "89      White\n",
       "98      Other\n",
       "108     White\n",
       "116     White\n",
       "Name: race, dtype: object"
      ]
     },
     "execution_count": 58,
     "metadata": {},
     "output_type": "execute_result"
    }
   ],
   "source": [
    "ethnieTexas"
   ]
  },
  {
   "cell_type": "code",
   "execution_count": 59,
   "metadata": {},
   "outputs": [],
   "source": [
    "ethnieTexas = ethnieTexas.value_counts(dropna=False)"
   ]
  },
  {
   "cell_type": "code",
   "execution_count": 60,
   "metadata": {},
   "outputs": [
    {
     "data": {
      "text/plain": [
       "White     7\n",
       "Other     2\n",
       "Latino    1\n",
       "Black     1\n",
       "Name: race, dtype: int64"
      ]
     },
     "execution_count": 60,
     "metadata": {},
     "output_type": "execute_result"
    }
   ],
   "source": [
    "ethnieTexas"
   ]
  },
  {
   "cell_type": "code",
   "execution_count": 61,
   "metadata": {},
   "outputs": [],
   "source": [
    "#on exporte notre table\n",
    "ethnieTexas=ethnieTexas.to_csv('public/datasets/ethnieTexas.csv')"
   ]
  },
  {
   "cell_type": "code",
   "execution_count": 62,
   "metadata": {},
   "outputs": [],
   "source": [
    "ethnieTexas=pd.read_csv('public/datasets/ethnieTexas.csv')"
   ]
  },
  {
   "cell_type": "code",
   "execution_count": 63,
   "metadata": {},
   "outputs": [],
   "source": [
    "ethnieTexas=ethnieTexas.rename(columns = {'Unnamed: 0': 'Race'})\n",
    "ethnieTexas=ethnieTexas.rename(columns = {'race': 'Count'})"
   ]
  },
  {
   "cell_type": "code",
   "execution_count": 64,
   "metadata": {},
   "outputs": [],
   "source": [
    "ethnieTexas=ethnieTexas.to_csv('public/datasets/ethnieTexas.csv',index = False)"
   ]
  }
 ],
 "metadata": {
  "kernelspec": {
   "display_name": "Python 3",
   "language": "python",
   "name": "python3"
  },
  "language_info": {
   "codemirror_mode": {
    "name": "ipython",
    "version": 3
   },
   "file_extension": ".py",
   "mimetype": "text/x-python",
   "name": "python",
   "nbconvert_exporter": "python",
   "pygments_lexer": "ipython3",
   "version": "3.7.6"
  }
 },
 "nbformat": 4,
 "nbformat_minor": 4
}
